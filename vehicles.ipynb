{
 "cells": [
  {
   "cell_type": "markdown",
   "metadata": {},
   "source": [
    "# Training Resnet50 for classification of Emergency and Non-emergency Vehicle\n"
   ]
  },
  {
   "cell_type": "code",
   "execution_count": 14,
   "metadata": {},
   "outputs": [],
   "source": [
    "import os\n",
    "import numpy as np\n",
    "import tensorflow as tf\n",
    "from tensorflow.keras.utils import Sequence, to_categorical\n",
    "from tensorflow.keras.preprocessing.image import load_img, img_to_array\n",
    "from tensorflow.keras.models import Model\n",
    "from tensorflow.keras.layers import Dense, GlobalAveragePooling2D\n",
    "from tensorflow.keras.applications import ResNet50\n",
    "from tensorflow.keras.optimizers import Adam\n",
    "\n",
    "# Updated directory structure\n",
    "image_dir = \"../Dataset/Vehicles/train\"\n",
    "\n",
    "class CustomDataGenerator(Sequence):\n",
    "    def __init__(self, file_paths, labels, batch_size, img_size, augmentation=None):\n",
    "        self.file_paths = file_paths\n",
    "        self.labels = labels\n",
    "        self.batch_size = batch_size\n",
    "        self.img_size = img_size\n",
    "        self.augmentation = augmentation\n",
    "        self.indices = np.arange(len(file_paths))\n",
    "\n",
    "    def __len__(self):\n",
    "        return int(np.ceil(len(self.file_paths) / self.batch_size))\n",
    "\n",
    "    def __getitem__(self, index):\n",
    "        batch_indices = self.indices[index * self.batch_size: (index + 1) * self.batch_size]\n",
    "        batch_paths = [self.file_paths[i] for i in batch_indices]\n",
    "        batch_labels = [self.labels[i] for i in batch_indices]\n",
    "        images, labels = self.__load_data(batch_paths, batch_labels)\n",
    "        return images, labels\n",
    "\n",
    "    def __load_data(self, batch_paths, batch_labels):\n",
    "        images = []\n",
    "        for image_path in batch_paths:\n",
    "            img = load_img(image_path, target_size=self.img_size)\n",
    "            img = img_to_array(img) / 255.0\n",
    "            if self.augmentation:\n",
    "                img = self.augmentation(image=img)['image']\n",
    "            images.append(img)\n",
    "        return np.array(images), np.array(batch_labels)\n",
    "\n",
    "    def on_epoch_end(self):\n",
    "        np.random.shuffle(self.indices)\n",
    "\n",
    "# Function to extract image paths and labels\n",
    "def create_image_path_labels(image_dir):\n",
    "    image_paths = []\n",
    "    image_labels = []\n",
    "    \n",
    "    for label in [\"0\", \"1\"]:  # 0: Non-emergency, 1: Emergency\n",
    "        class_dir = os.path.join(image_dir, label)\n",
    "        for img_name in os.listdir(class_dir):\n",
    "            img_path = os.path.join(class_dir, img_name)\n",
    "            image_paths.append(img_path)\n",
    "            image_labels.append(int(label))  # Convert label to integer\n",
    "    \n",
    "    return image_paths, image_labels"
   ]
  },
  {
   "cell_type": "code",
   "execution_count": 15,
   "metadata": {},
   "outputs": [
    {
     "name": "stdout",
     "output_type": "stream",
     "text": [
      "Epoch 1/30\n",
      "\u001b[1m231/231\u001b[0m \u001b[32m━━━━━━━━━━━━━━━━━━━━\u001b[0m\u001b[37m\u001b[0m \u001b[1m309s\u001b[0m 1s/step - accuracy: 0.5655 - loss: 0.6896\n",
      "Epoch 2/30\n",
      "\u001b[1m231/231\u001b[0m \u001b[32m━━━━━━━━━━━━━━━━━━━━\u001b[0m\u001b[37m\u001b[0m \u001b[1m345s\u001b[0m 1s/step - accuracy: 0.7138 - loss: 0.5734\n",
      "Epoch 3/30\n",
      "\u001b[1m231/231\u001b[0m \u001b[32m━━━━━━━━━━━━━━━━━━━━\u001b[0m\u001b[37m\u001b[0m \u001b[1m335s\u001b[0m 1s/step - accuracy: 0.7331 - loss: 0.5424\n",
      "Epoch 4/30\n",
      "\u001b[1m231/231\u001b[0m \u001b[32m━━━━━━━━━━━━━━━━━━━━\u001b[0m\u001b[37m\u001b[0m \u001b[1m321s\u001b[0m 1s/step - accuracy: 0.7427 - loss: 0.5264\n",
      "Epoch 5/30\n",
      "\u001b[1m231/231\u001b[0m \u001b[32m━━━━━━━━━━━━━━━━━━━━\u001b[0m\u001b[37m\u001b[0m \u001b[1m262s\u001b[0m 1s/step - accuracy: 0.7315 - loss: 0.5357\n",
      "Epoch 6/30\n",
      "\u001b[1m231/231\u001b[0m \u001b[32m━━━━━━━━━━━━━━━━━━━━\u001b[0m\u001b[37m\u001b[0m \u001b[1m256s\u001b[0m 1s/step - accuracy: 0.7597 - loss: 0.4940\n",
      "Epoch 7/30\n",
      "\u001b[1m231/231\u001b[0m \u001b[32m━━━━━━━━━━━━━━━━━━━━\u001b[0m\u001b[37m\u001b[0m \u001b[1m255s\u001b[0m 1s/step - accuracy: 0.7449 - loss: 0.5076\n",
      "Epoch 8/30\n",
      "\u001b[1m231/231\u001b[0m \u001b[32m━━━━━━━━━━━━━━━━━━━━\u001b[0m\u001b[37m\u001b[0m \u001b[1m253s\u001b[0m 1s/step - accuracy: 0.7723 - loss: 0.4728\n",
      "Epoch 9/30\n",
      "\u001b[1m231/231\u001b[0m \u001b[32m━━━━━━━━━━━━━━━━━━━━\u001b[0m\u001b[37m\u001b[0m \u001b[1m251s\u001b[0m 1s/step - accuracy: 0.7762 - loss: 0.4678\n",
      "Epoch 10/30\n",
      "\u001b[1m231/231\u001b[0m \u001b[32m━━━━━━━━━━━━━━━━━━━━\u001b[0m\u001b[37m\u001b[0m \u001b[1m251s\u001b[0m 1s/step - accuracy: 0.7786 - loss: 0.4658\n",
      "Epoch 11/30\n",
      "\u001b[1m231/231\u001b[0m \u001b[32m━━━━━━━━━━━━━━━━━━━━\u001b[0m\u001b[37m\u001b[0m \u001b[1m250s\u001b[0m 1s/step - accuracy: 0.7864 - loss: 0.4521\n",
      "Epoch 12/30\n",
      "\u001b[1m231/231\u001b[0m \u001b[32m━━━━━━━━━━━━━━━━━━━━\u001b[0m\u001b[37m\u001b[0m \u001b[1m257s\u001b[0m 1s/step - accuracy: 0.7873 - loss: 0.4561\n",
      "Epoch 13/30\n",
      "\u001b[1m231/231\u001b[0m \u001b[32m━━━━━━━━━━━━━━━━━━━━\u001b[0m\u001b[37m\u001b[0m \u001b[1m247s\u001b[0m 1s/step - accuracy: 0.7925 - loss: 0.4377\n",
      "Epoch 14/30\n",
      "\u001b[1m231/231\u001b[0m \u001b[32m━━━━━━━━━━━━━━━━━━━━\u001b[0m\u001b[37m\u001b[0m \u001b[1m305s\u001b[0m 1s/step - accuracy: 0.7936 - loss: 0.4398\n",
      "Epoch 15/30\n",
      "\u001b[1m231/231\u001b[0m \u001b[32m━━━━━━━━━━━━━━━━━━━━\u001b[0m\u001b[37m\u001b[0m \u001b[1m265s\u001b[0m 1s/step - accuracy: 0.8099 - loss: 0.4199\n",
      "Epoch 16/30\n",
      "\u001b[1m231/231\u001b[0m \u001b[32m━━━━━━━━━━━━━━━━━━━━\u001b[0m\u001b[37m\u001b[0m \u001b[1m255s\u001b[0m 1s/step - accuracy: 0.7988 - loss: 0.4251\n",
      "Epoch 17/30\n",
      "\u001b[1m231/231\u001b[0m \u001b[32m━━━━━━━━━━━━━━━━━━━━\u001b[0m\u001b[37m\u001b[0m \u001b[1m267s\u001b[0m 1s/step - accuracy: 0.8092 - loss: 0.4143\n",
      "Epoch 18/30\n",
      "\u001b[1m231/231\u001b[0m \u001b[32m━━━━━━━━━━━━━━━━━━━━\u001b[0m\u001b[37m\u001b[0m \u001b[1m271s\u001b[0m 1s/step - accuracy: 0.8055 - loss: 0.4214\n",
      "Epoch 19/30\n",
      "\u001b[1m231/231\u001b[0m \u001b[32m━━━━━━━━━━━━━━━━━━━━\u001b[0m\u001b[37m\u001b[0m \u001b[1m326s\u001b[0m 1s/step - accuracy: 0.8165 - loss: 0.4036\n",
      "Epoch 20/30\n",
      "\u001b[1m231/231\u001b[0m \u001b[32m━━━━━━━━━━━━━━━━━━━━\u001b[0m\u001b[37m\u001b[0m \u001b[1m289s\u001b[0m 1s/step - accuracy: 0.8132 - loss: 0.4079\n",
      "Epoch 21/30\n",
      "\u001b[1m231/231\u001b[0m \u001b[32m━━━━━━━━━━━━━━━━━━━━\u001b[0m\u001b[37m\u001b[0m \u001b[1m293s\u001b[0m 1s/step - accuracy: 0.8173 - loss: 0.4072\n",
      "Epoch 22/30\n",
      "\u001b[1m231/231\u001b[0m \u001b[32m━━━━━━━━━━━━━━━━━━━━\u001b[0m\u001b[37m\u001b[0m \u001b[1m289s\u001b[0m 1s/step - accuracy: 0.8151 - loss: 0.4068\n",
      "Epoch 23/30\n",
      "\u001b[1m231/231\u001b[0m \u001b[32m━━━━━━━━━━━━━━━━━━━━\u001b[0m\u001b[37m\u001b[0m \u001b[1m308s\u001b[0m 1s/step - accuracy: 0.8267 - loss: 0.3919\n",
      "Epoch 24/30\n",
      "\u001b[1m231/231\u001b[0m \u001b[32m━━━━━━━━━━━━━━━━━━━━\u001b[0m\u001b[37m\u001b[0m \u001b[1m297s\u001b[0m 1s/step - accuracy: 0.8262 - loss: 0.3903\n",
      "Epoch 25/30\n",
      "\u001b[1m231/231\u001b[0m \u001b[32m━━━━━━━━━━━━━━━━━━━━\u001b[0m\u001b[37m\u001b[0m \u001b[1m265s\u001b[0m 1s/step - accuracy: 0.8211 - loss: 0.3892\n",
      "Epoch 26/30\n",
      "\u001b[1m231/231\u001b[0m \u001b[32m━━━━━━━━━━━━━━━━━━━━\u001b[0m\u001b[37m\u001b[0m \u001b[1m270s\u001b[0m 1s/step - accuracy: 0.8259 - loss: 0.3964\n",
      "Epoch 27/30\n",
      "\u001b[1m231/231\u001b[0m \u001b[32m━━━━━━━━━━━━━━━━━━━━\u001b[0m\u001b[37m\u001b[0m \u001b[1m273s\u001b[0m 1s/step - accuracy: 0.8254 - loss: 0.3889\n",
      "Epoch 28/30\n",
      "\u001b[1m231/231\u001b[0m \u001b[32m━━━━━━━━━━━━━━━━━━━━\u001b[0m\u001b[37m\u001b[0m \u001b[1m275s\u001b[0m 1s/step - accuracy: 0.8323 - loss: 0.3808\n",
      "Epoch 29/30\n",
      "\u001b[1m231/231\u001b[0m \u001b[32m━━━━━━━━━━━━━━━━━━━━\u001b[0m\u001b[37m\u001b[0m \u001b[1m270s\u001b[0m 1s/step - accuracy: 0.8262 - loss: 0.4015\n",
      "Epoch 30/30\n",
      "\u001b[1m231/231\u001b[0m \u001b[32m━━━━━━━━━━━━━━━━━━━━\u001b[0m\u001b[37m\u001b[0m \u001b[1m257s\u001b[0m 1s/step - accuracy: 0.8261 - loss: 0.3912\n"
     ]
    },
    {
     "name": "stderr",
     "output_type": "stream",
     "text": [
      "WARNING:absl:You are saving your model as an HDF5 file via `model.save()` or `keras.saving.save_model(model)`. This file format is considered legacy. We recommend using instead the native Keras format, e.g. `model.save('my_model.keras')` or `keras.saving.save_model(model, 'my_model.keras')`. \n"
     ]
    },
    {
     "name": "stdout",
     "output_type": "stream",
     "text": [
      "\u001b[1m231/231\u001b[0m \u001b[32m━━━━━━━━━━━━━━━━━━━━\u001b[0m\u001b[37m\u001b[0m \u001b[1m265s\u001b[0m 1s/step - accuracy: 0.8285 - loss: 0.3872\n",
      "Loss: 0.3837, Accuracy: 0.8312\n"
     ]
    }
   ],
   "source": [
    "# Get image paths and labels\n",
    "img_paths, img_labels = create_image_path_labels(image_dir)\n",
    "\n",
    "# Hyperparameters\n",
    "batch_size = 20\n",
    "img_size = (224, 224)\n",
    "num_classes = 2  # Binary classification (emergency vs non-emergency)\n",
    "lr_schedule = tf.keras.optimizers.schedules.ExponentialDecay(\n",
    "    initial_learning_rate=0.001, decay_steps=100, decay_rate=0.96, staircase=True\n",
    ")\n",
    "\n",
    "epochs = 30\n",
    "\n",
    "# Convert Labels to One-Hot Encoding\n",
    "img_labels = to_categorical(img_labels, num_classes=num_classes)\n",
    "\n",
    "# Initialize Data Generator\n",
    "data_generator = CustomDataGenerator(img_paths, img_labels, batch_size, img_size, augmentation=None)\n",
    "\n",
    "# Load Pretrained ResNet50\n",
    "base_model = ResNet50(weights=\"imagenet\", include_top=False, input_shape=(img_size[0], img_size[1], 3))\n",
    "\n",
    "# Freeze the base model layers\n",
    "for layer in base_model.layers:\n",
    "    layer.trainable = False\n",
    "\n",
    "# Add Classification Head\n",
    "x = base_model.output\n",
    "x = GlobalAveragePooling2D()(x)\n",
    "x = Dense(128, activation=\"relu\")(x)  # Fully connected layer\n",
    "output_layer = Dense(num_classes, activation=\"softmax\")(x)  # Ensure final output layer is explicitly built\n",
    "\n",
    "# Create Model with proper output\n",
    "model = Model(inputs=base_model.input, outputs=output_layer)\n",
    "\n",
    "optimizer = tf.keras.optimizers.Adam(learning_rate=lr_schedule)\n",
    "\n",
    "# Compile the Model\n",
    "model.compile(\n",
    "    optimizer=optimizer, \n",
    "    loss=\"categorical_crossentropy\", \n",
    "    metrics=[\"accuracy\"]\n",
    "    )\n",
    "\n",
    "\n",
    "# Train the Model\n",
    "history = model.fit(\n",
    "    data_generator,\n",
    "    epochs=epochs,\n",
    "    steps_per_epoch=len(data_generator),\n",
    "    verbose=1,\n",
    ")\n",
    "\n",
    "# Save the Model\n",
    "model.save(\"2resnet50_custom_data_generator.h5\")\n",
    "\n",
    "# Evaluate the Model\n",
    "loss, accuracy = model.evaluate(data_generator)\n",
    "print(f\"Loss: {loss:.4f}, Accuracy: {accuracy:.4f}\")\n"
   ]
  },
  {
   "cell_type": "code",
   "execution_count": 17,
   "metadata": {},
   "outputs": [
    {
     "data": {
      "image/png": "[encoded data removed]",
      "text/plain": [
       "<Figure size 640x480 with 1 Axes>"
      ]
     },
     "metadata": {},
     "output_type": "display_data"
    }
   ],
   "source": [
    "import matplotlib.pyplot as plt\n",
    "\n",
    "# Plot training & validation accuracy\n",
    "plt.plot(history.history['accuracy'], label='Train Accuracy')\n",
    "plt.legend()\n",
    "plt.title('Model Accuracy')\n",
    "plt.xlabel('Epochs')\n",
    "plt.ylabel('Accuracy')\n",
    "plt.show()"
   ]
  },
  {
   "cell_type": "code",
   "execution_count": 18,
   "metadata": {},
   "outputs": [
    {
     "data": {
      "image/png": "[encoded data removed]",
      "text/plain": [
       "<Figure size 640x480 with 1 Axes>"
      ]
     },
     "metadata": {},
     "output_type": "display_data"
    }
   ],
   "source": [
    "# Plot training & validation loss\n",
    "plt.plot(history.history['loss'], label='Train Loss')\n",
    "plt.legend()\n",
    "plt.title('Model Loss')\n",
    "plt.xlabel('Epochs')\n",
    "plt.ylabel('Loss')\n",
    "plt.show()"
   ]
  },
  {
   "cell_type": "markdown",
   "metadata": {},
   "source": [
    "## Testing"
   ]
  },
  {
   "cell_type": "code",
   "execution_count": 19,
   "metadata": {},
   "outputs": [],
   "source": [
    "import os\n",
    "import numpy as np\n",
    "import tensorflow as tf\n",
    "from tensorflow.keras.preprocessing.image import load_img, img_to_array\n",
    "from tensorflow.keras.utils import to_categorical, Sequence\n",
    "\n",
    "# Define test dataset directory\n",
    "test_image_dir = \"../Dataset/Vehicles/validation\"  # Change if needed\n",
    "\n",
    "# Function to extract image paths and labels for test dataset\n",
    "def create_image_path_labels(image_dir):\n",
    "    image_paths = []\n",
    "    image_labels = []\n",
    "    \n",
    "    for label in [\"0\", \"1\"]:  # 0: Non-emergency, 1: Emergency\n",
    "        class_dir = os.path.join(image_dir, label)\n",
    "        for img_name in os.listdir(class_dir):\n",
    "            img_path = os.path.join(class_dir, img_name)\n",
    "            image_paths.append(img_path)\n",
    "            image_labels.append(int(label))  # Convert label to integer\n",
    "    \n",
    "    return image_paths, image_labels\n",
    "\n",
    "# Load test image paths and labels\n",
    "test_img_paths, test_img_labels = create_image_path_labels(test_image_dir)\n",
    "\n",
    "# Convert labels to one-hot encoding\n",
    "num_classes = 2\n",
    "test_img_labels = to_categorical(test_img_labels, num_classes=num_classes)\n",
    "\n",
    "# Define Data Generator for Testing\n",
    "class CustomDataGenerator(Sequence):\n",
    "    def __init__(self, file_paths, labels, batch_size, img_size):\n",
    "        self.file_paths = file_paths\n",
    "        self.labels = labels\n",
    "        self.batch_size = batch_size\n",
    "        self.img_size = img_size\n",
    "        self.indices = np.arange(len(file_paths))\n",
    "\n",
    "    def __len__(self):\n",
    "        return int(np.ceil(len(self.file_paths) / self.batch_size))\n",
    "\n",
    "    def __getitem__(self, index):\n",
    "        batch_indices = self.indices[index * self.batch_size: (index + 1) * self.batch_size]\n",
    "        batch_paths = [self.file_paths[i] for i in batch_indices]\n",
    "        batch_labels = [self.labels[i] for i in batch_indices]\n",
    "        images, labels = self.__load_data(batch_paths, batch_labels)\n",
    "        return images, labels\n",
    "\n",
    "    def __load_data(self, batch_paths, batch_labels):\n",
    "        images = []\n",
    "        for image_path in batch_paths:\n",
    "            img = load_img(image_path, target_size=self.img_size)\n",
    "            img = img_to_array(img) / 255.0\n",
    "            images.append(img)\n",
    "        return np.array(images), np.array(batch_labels)\n"
   ]
  },
  {
   "cell_type": "code",
   "execution_count": 20,
   "metadata": {},
   "outputs": [
    {
     "name": "stderr",
     "output_type": "stream",
     "text": [
      "WARNING:absl:Compiled the loaded model, but the compiled metrics have yet to be built. `model.compile_metrics` will be empty until you train or evaluate the model.\n",
      "c:\\Users\\Asus\\AppData\\Local\\Programs\\Python\\Python311\\Lib\\site-packages\\keras\\src\\trainers\\data_adapters\\py_dataset_adapter.py:121: UserWarning: Your `PyDataset` class should call `super().__init__(**kwargs)` in its constructor. `**kwargs` can include `workers`, `use_multiprocessing`, `max_queue_size`. Do not pass these arguments to `fit()`, as they will be ignored.\n",
      "  self._warn_if_super_not_called()\n"
     ]
    },
    {
     "name": "stdout",
     "output_type": "stream",
     "text": [
      "\u001b[1m11/11\u001b[0m \u001b[32m━━━━━━━━━━━━━━━━━━━━\u001b[0m\u001b[37m\u001b[0m \u001b[1m26s\u001b[0m 2s/step - accuracy: 0.7882 - loss: 0.4413\n",
      "Test Loss: 0.4549, Test Accuracy: 0.7818\n"
     ]
    }
   ],
   "source": [
    "# Set Parameters\n",
    "batch_size = 30\n",
    "img_size = (224, 224)\n",
    "\n",
    "# Initialize Test Data Generator\n",
    "test_data_generator = CustomDataGenerator(test_img_paths, test_img_labels, batch_size, img_size)\n",
    "\n",
    "# Load the trained model\n",
    "model = tf.keras.models.load_model(\"2resnet50_custom_data_generator.h5\")\n",
    "\n",
    "# Evaluate the Model on Test Data\n",
    "test_loss, test_accuracy = model.evaluate(test_data_generator)\n",
    "print(f\"Test Loss: {test_loss:.4f}, Test Accuracy: {test_accuracy:.4f}\")"
   ]
  },
  {
   "cell_type": "markdown",
   "metadata": {},
   "source": [
    "## Predicting"
   ]
  },
  {
   "cell_type": "code",
   "execution_count": 1,
   "metadata": {},
   "outputs": [
    {
     "name": "stderr",
     "output_type": "stream",
     "text": [
      "/Users/naveenkrishna/Library/Python/3.9/lib/python/site-packages/urllib3/__init__.py:35: NotOpenSSLWarning: urllib3 v2 only supports OpenSSL 1.1.1+, currently the 'ssl' module is compiled with 'LibreSSL 2.8.3'. See: https://github.com/urllib3/urllib3/issues/3020\n",
      "  warnings.warn(\n",
      "WARNING:absl:Compiled the loaded model, but the compiled metrics have yet to be built. `model.compile_metrics` will be empty until you train or evaluate the model.\n"
     ]
    },
    {
     "name": "stdout",
     "output_type": "stream",
     "text": [
      "\u001b[1m1/1\u001b[0m \u001b[32m━━━━━━━━━━━━━━━━━━━━\u001b[0m\u001b[37m\u001b[0m \u001b[1m1s\u001b[0m 655ms/step\n",
      "Predicted Class: Non-Emergency\n"
     ]
    }
   ],
   "source": [
    "import numpy as np\n",
    "from tensorflow.keras.models import load_model\n",
    "from tensorflow.keras.preprocessing.image import load_img, img_to_array\n",
    "\n",
    "# Load the saved model\n",
    "model = load_model('2resnet50_custom_data_generator.h5')\n",
    "\n",
    "# Path to the input image\n",
    "image_path = 'road_test2.jpg'\n",
    "\n",
    "# Load and preprocess the image\n",
    "img = load_img(image_path, target_size=(224, 224))\n",
    "img_array = img_to_array(img) / 255.0  # Normalize the image\n",
    "img_array = np.expand_dims(img_array, axis=0)  # Add batch dimension\n",
    "\n",
    "# Make a prediction\n",
    "predictions = model.predict(img_array)\n",
    "\n",
    "# Decode the predictions\n",
    "predicted_class_index = np.argmax(predictions, axis=1)\n",
    "predicted_class = 'Emergency' if predicted_class_index == 1 else 'Non-Emergency'\n",
    "\n",
    "print(f'Predicted Class: {predicted_class}')\n"
   ]
  },
  {
   "cell_type": "code",
   "execution_count": 1,
   "metadata": {},
   "outputs": [
    {
     "name": "stderr",
     "output_type": "stream",
     "text": [
      "/Users/naveenkrishna/Library/Python/3.9/lib/python/site-packages/urllib3/__init__.py:35: NotOpenSSLWarning: urllib3 v2 only supports OpenSSL 1.1.1+, currently the 'ssl' module is compiled with 'LibreSSL 2.8.3'. See: https://github.com/urllib3/urllib3/issues/3020\n",
      "  warnings.warn(\n",
      "WARNING:absl:Compiled the loaded model, but the compiled metrics have yet to be built. `model.compile_metrics` will be empty until you train or evaluate the model.\n"
     ]
    },
    {
     "name": "stdout",
     "output_type": "stream",
     "text": [
      "\u001b[1m1/1\u001b[0m \u001b[32m━━━━━━━━━━━━━━━━━━━━\u001b[0m\u001b[37m\u001b[0m \u001b[1m1s\u001b[0m 627ms/step\n",
      "Predicted Class: Emergency\n"
     ]
    }
   ],
   "source": [
    "import numpy as np\n",
    "from tensorflow.keras.models import load_model\n",
    "from tensorflow.keras.preprocessing.image import load_img, img_to_array\n",
    "\n",
    "# Load the saved model\n",
    "model = load_model('2resnet50_custom_data_generator.h5')\n",
    "\n",
    "# Path to the input image\n",
    "image_path = 'road_test.jpg'\n",
    "\n",
    "# Load and preprocess the image\n",
    "img = load_img(image_path, target_size=(224, 224))\n",
    "img_array = img_to_array(img) / 255.0  # Normalize the image\n",
    "img_array = np.expand_dims(img_array, axis=0)  # Add batch dimension\n",
    "\n",
    "# Make a prediction\n",
    "predictions = model.predict(img_array)\n",
    "\n",
    "# Decode the predictions\n",
    "predicted_class_index = np.argmax(predictions, axis=1)\n",
    "predicted_class = 'Emergency' if predicted_class_index == 1 else 'Non-Emergency'\n",
    "\n",
    "print(f'Predicted Class: {predicted_class}')\n"
   ]
  },
  {
   "cell_type": "code",
   "execution_count": 42,
   "metadata": {},
   "outputs": [
    {
     "name": "stderr",
     "output_type": "stream",
     "text": [
      "WARNING:absl:Compiled the loaded model, but the compiled metrics have yet to be built. `model.compile_metrics` will be empty until you train or evaluate the model.\n"
     ]
    },
    {
     "name": "stdout",
     "output_type": "stream",
     "text": [
      "\u001b[1m1/1\u001b[0m \u001b[32m━━━━━━━━━━━━━━━━━━━━\u001b[0m\u001b[37m\u001b[0m \u001b[1m2s\u001b[0m 2s/step\n",
      "Predicted Class: Emergency\n"
     ]
    }
   ],
   "source": [
    "import numpy as np\n",
    "from tensorflow.keras.models import load_model\n",
    "from tensorflow.keras.preprocessing.image import load_img, img_to_array\n",
    "\n",
    "# Load the saved model\n",
    "model = load_model('2resnet50_custom_data_generator.h5')\n",
    "\n",
    "# Path to the input image\n",
    "image_path = 'vehicle_frame_14.jpg_0.jpg'\n",
    "\n",
    "# Load and preprocess the image\n",
    "img = load_img(image_path, target_size=(224, 224))\n",
    "img_array = img_to_array(img) / 255.0  # Normalize the image\n",
    "img_array = np.expand_dims(img_array, axis=0)  # Add batch dimension\n",
    "\n",
    "# Make a prediction\n",
    "predictions = model.predict(img_array)\n",
    "\n",
    "# Decode the predictions\n",
    "predicted_class_index = np.argmax(predictions, axis=1)\n",
    "predicted_class = 'Emergency' if predicted_class_index == 1 else 'Non-Emergency'\n",
    "\n",
    "print(f'Predicted Class: {predicted_class}')\n"
   ]
  }
 ],
 "metadata": {
  "kernelspec": {
   "display_name": "Python 3",
   "language": "python",
   "name": "python3"
  },
  "language_info": {
   "codemirror_mode": {
    "name": "ipython",
    "version": 3
   },
   "file_extension": ".py",
   "mimetype": "text/x-python",
   "name": "python",
   "nbconvert_exporter": "python",
   "pygments_lexer": "ipython3",
   "version": "3.9.6"
  }
 },
 "nbformat": 4,
 "nbformat_minor": 2
}
